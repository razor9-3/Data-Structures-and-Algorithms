{
 "cells": [
  {
   "cell_type": "markdown",
   "id": "fifteen-sailing",
   "metadata": {},
   "source": [
    "# Лабораторная работа №1\n",
    "## Выполнил студент группы БФИ-2001 Никитин Г.А"
   ]
  },
  {
   "cell_type": "markdown",
   "id": "particular-syndicate",
   "metadata": {},
   "source": [
    "### Оглавление\n",
    "1. [Задание 1](#Задание-№1)\n",
    "2. [Задание 2](#Задание-№2)\n",
    "3. [Задание 3](#Задание-№3)\n",
    "4. [Вывод](#Вывод)"
   ]
  },
  {
   "cell_type": "markdown",
   "id": "arctic-stocks",
   "metadata": {},
   "source": [
    "### Задание №1\n",
    "<i> Вызвать функцию print() и передать туда строку Hello, World! </i>"
   ]
  },
  {
   "cell_type": "code",
   "execution_count": 1,
   "id": "caring-truck",
   "metadata": {
    "scrolled": true
   },
   "outputs": [
    {
     "name": "stdout",
     "output_type": "stream",
     "text": [
      "hello, world\n"
     ]
    }
   ],
   "source": [
    "print ('hello, world')"
   ]
  },
  {
   "cell_type": "markdown",
   "id": "maritime-conversation",
   "metadata": {},
   "source": [
    "### Задание №2\n",
    "Написать генератор случайных матриц(многомерных), который принимает\n",
    "опциональные параметры <b>m</b>, <b>n</b>, <b>min_limit</b>, <b>max_limit</b>, где <b>m</b> и <b>n</b> указывают размер\n",
    "матрицы, а <b>min_lim</b> и <b>max_lim</b> - минимальное и максимальное значение для\n",
    "генерируемого числа."
   ]
  },
  {
   "cell_type": "code",
   "execution_count": 1,
   "id": "built-contact",
   "metadata": {},
   "outputs": [],
   "source": [
    "import random\n",
    "import time\n",
    "import math"
   ]
  },
  {
   "cell_type": "code",
   "execution_count": 3,
   "id": "alert-charm",
   "metadata": {},
   "outputs": [
    {
     "name": "stdout",
     "output_type": "stream",
     "text": [
      "m = 3\n",
      "n = 3\n",
      "min_lim = 1\n",
      "max_lim = 10\n",
      "[[6, 10, 4], [5, 10, 7], [4, 10, 6]]\n"
     ]
    }
   ],
   "source": [
    "m = int(input ('m = '))\n",
    "n = int(input('n = '))\n",
    "min_lim = int(input('min_lim = '))\n",
    "max_lim = int(input('max_lim = '))\n",
    "\n",
    "arr = []\n",
    "for i in range(m):\n",
    "    row = []\n",
    "    for j in range(n):\n",
    "        row.append(random.randrange(min_lim, max_lim + 1))\n",
    "    arr.append(row)\n",
    "\n",
    "print (arr)"
   ]
  },
  {
   "cell_type": "markdown",
   "id": "catholic-roots",
   "metadata": {},
   "source": [
    "### Задание №3\n",
    "Реализовать методы сортировки строк числовой матрицы в соответствии с\n",
    "заданием. Оценить время работы каждого алгоритма сортировки и сравнить его со\n",
    "временем стандартной функции сортировки. Испытания проводить на сгенерированных\n",
    "матрицах."
   ]
  },
  {
   "cell_type": "code",
   "execution_count": 4,
   "id": "opposed-creature",
   "metadata": {},
   "outputs": [],
   "source": [
    "import copy"
   ]
  },
  {
   "cell_type": "code",
   "execution_count": 5,
   "id": "cleared-anniversary",
   "metadata": {},
   "outputs": [
    {
     "name": "stdout",
     "output_type": "stream",
     "text": [
      "[[4, 6, 10], [5, 7, 10], [4, 6, 10]]\n",
      "--- 1 ms ---\n"
     ]
    }
   ],
   "source": [
    "# Сортировка выбором.\n",
    "\n",
    "start_time = time.time()\n",
    "#TODO\n",
    "def selection(arr):\n",
    "    for i in range(len(arr) - 1):\n",
    "        m = i\n",
    "        j = i + 1\n",
    "        while j < len(arr):\n",
    "            if arr[j] < arr[m]:\n",
    "                m = j\n",
    "            j = j + 1\n",
    "        arr[i], arr[m] = arr[m], arr[i]\n",
    "    return(arr)\n",
    "\n",
    "def sel_sort(arr):\n",
    "    i = 0\n",
    "\n",
    "    for i in range (len (arr)):\n",
    "        arr[i] = selection(arr[i])\n",
    "sel_sort (arr)\n",
    "print(arr)\n",
    "print(\"--- {0} ms ---\".format(round((time.time() - start_time)*1000)))"
   ]
  },
  {
   "cell_type": "code",
   "execution_count": 4,
   "id": "roman-silly",
   "metadata": {
    "scrolled": true
   },
   "outputs": [
    {
     "name": "stdout",
     "output_type": "stream",
     "text": [
      "[[4, 6, 10], [5, 7, 10], [4, 6, 10]]\n",
      "--- 1 ms ---\n"
     ]
    }
   ],
   "source": [
    "# Сортировка вставкой.\n",
    "start_time = time.time()\n",
    "#TODO\n",
    "def insertion(arr):\n",
    "    for i in range(len(arr)):\n",
    "        cursor = arr[i]\n",
    "        pos = i\n",
    "\n",
    "        while pos > 0 and arr[pos - 1] > cursor:\n",
    "            arr[pos] = arr[pos - 1]\n",
    "            pos = pos - 1\n",
    "        arr[pos] = cursor\n",
    "\n",
    "    return (arr)\n",
    "\n",
    "def sel_sort(arr):\n",
    "    i = 0\n",
    "    for i in range (len (arr)):\n",
    "        arr[i] = insertion(arr[i])\n",
    "\n",
    "sel_sort (arr)\n",
    "print (arr)\n",
    "print(\"--- {0} ms ---\".format(round((time.time() - start_time)*1000)))"
   ]
  },
  {
   "cell_type": "code",
   "execution_count": 6,
   "id": "vital-implementation",
   "metadata": {},
   "outputs": [
    {
     "name": "stdout",
     "output_type": "stream",
     "text": [
      "[[4, 6, 10], [5, 7, 10], [4, 6, 10]]\n",
      "--- 1 ms ---\n"
     ]
    }
   ],
   "source": [
    "# Сортировка обменом. || Сортировка пузырьком.\n",
    "start_time = time.time()\n",
    "#TODO\n",
    "def bubble(arr):\n",
    "    changed = True\n",
    "    while changed:\n",
    "        changed = False\n",
    "        for i in range(len(arr) - 1):\n",
    "            if arr[i] > arr[i+1]:\n",
    "                arr[i], arr[i+1] = arr[i+1], arr[i]\n",
    "                changed = True\n",
    "    return arr\n",
    "\n",
    "def sel_sort(arr):\n",
    "    i = 0\n",
    "    for i in range (len (arr)):\n",
    "        arr[i] = bubble(arr[i])\n",
    "\n",
    "sel_sort (arr)\n",
    "print(arr)\n",
    "print(\"--- {0} ms ---\".format(round((time.time() - start_time)*1000)))"
   ]
  },
  {
   "cell_type": "code",
   "execution_count": 9,
   "id": "veterinary-glory",
   "metadata": {},
   "outputs": [
    {
     "name": "stdout",
     "output_type": "stream",
     "text": [
      "[[4, 6, 10], [5, 7, 10], [4, 6, 10]]\n",
      "--- 0 ms ---\n"
     ]
    }
   ],
   "source": [
    "# Сортировка Шелла.\n",
    "start_time = time.time()\n",
    "#TODO\n",
    "def shell(arr):\n",
    "    n = len(arr)\n",
    "    k = int(math.log2(n))\n",
    "    interval = 2**k -1\n",
    "    while interval > 0:\n",
    "        for i in range(interval, n):\n",
    "            temp = arr[i]\n",
    "            j = i\n",
    "            while j >= interval and arr[j - interval] > temp:\n",
    "                arr[j] = arr[j - interval]\n",
    "                j -= interval\n",
    "            arr[j] = temp\n",
    "        k -= 1\n",
    "        interval = 2**k -1\n",
    "    return arr\n",
    "\n",
    "def sel_sort(arr):\n",
    "    i = 0\n",
    "    for i in range (len (arr)):\n",
    "        arr[i] = shell(arr[i])\n",
    "\n",
    "sel_sort (arr)\n",
    "print(arr)\n",
    "print(\"--- {0} ms ---\".format(round((time.time() - start_time)*1000)))"
   ]
  },
  {
   "cell_type": "code",
   "execution_count": 7,
   "id": "correct-chaos",
   "metadata": {},
   "outputs": [
    {
     "name": "stdout",
     "output_type": "stream",
     "text": [
      "[[4, 6, 10], [5, 7, 10], [4, 6, 10]]\n",
      "--- 0 ms ---\n"
     ]
    }
   ],
   "source": [
    "# Быстрая сортировка.\n",
    "start_time = time.time()\n",
    "#TODO\n",
    "from random import randint\n",
    "def quick(array):\n",
    "    if len(array) < 2:\n",
    "        return array\n",
    "    low, same, high = [], [], []\n",
    "    pivot = array[randint(0, len(array) - 1)]\n",
    "    for item in array:\n",
    "        if item < pivot:\n",
    "            low.append(item)\n",
    "        elif item == pivot:\n",
    "            same.append(item)\n",
    "        elif item > pivot:\n",
    "            high.append(item)\n",
    "    return quick(low) + same + quick(high)\n",
    "\n",
    "def sel_sort(arr):\n",
    "    i = 0\n",
    "    for i in range (len (arr)):\n",
    "        arr[i] = quick(arr[i])\n",
    "\n",
    "sel_sort (arr)\n",
    "print(arr)\n",
    "print(\"--- {0} ms ---\".format(round((time.time() - start_time)*1000)))\n",
    "    "
   ]
  },
  {
   "cell_type": "code",
   "execution_count": 7,
   "id": "5d826005",
   "metadata": {},
   "outputs": [
    {
     "name": "stdout",
     "output_type": "stream",
     "text": [
      "[[4, 6, 10], [5, 7, 10], [4, 6, 10]]\n",
      "--- 0 ms ---\n"
     ]
    }
   ],
   "source": [
    "# Турнирная сортировка.\n",
    "start_time = time.time()\n",
    "#TODO\n",
    "\n",
    "class PriorityHeap:\n",
    "def __init__(self) -> None:\n",
    "self.cache: list[int] = []\n",
    "self.size: int = 0\n",
    "self.max_size = 32\n",
    "\n",
    "def pop_max(self) -> any: ###\n",
    "res = self.cache[0]\n",
    "self.size -= 1\n",
    "self.cache[0] = self.cache[self.size]\n",
    "self.cache.pop(self.size)\n",
    "self.iter_heapify(0)\n",
    "return res\n",
    "\n",
    "def max_heap_insert(self, key: int):\n",
    "self.cache.append(-1000000000000000)\n",
    "self.insert_key(key, self.size) #iter_key\n",
    "self.size += 1\n",
    "\n",
    "def insert_key(self, value: int, i: int):\n",
    "self.cache[i] = value\n",
    "parent = self.parent(i)\n",
    "while i > 0 and self.cache[parent] > self.cache[i]:\n",
    "self.cache[parent], self.cache[i] = self.cache[i], self.cache[parent]\n",
    "i = parent\n",
    "parent = self.parent(i)\n",
    "\n",
    "def parent(self, i: int) -> int:\n",
    "res = (i » 1) - 1\n",
    "if res < 0:\n",
    "return 0\n",
    "else:\n",
    "return res\n",
    "\n",
    "def iter_heapify(self, i: int) -> None:\n",
    "while True:\n",
    "l: int = (i « 1) + 1\n",
    "r: int = (i « 1) + 2\n",
    "largest: int = i\n",
    "\n",
    "if l < self.size and self.cache[l] < self.cache[largest]:\n",
    "largest = l\n",
    "\n",
    "if r < self.size and self.cache[r] < self.cache[largest]:\n",
    "largest = r\n",
    "\n",
    "if largest ==i:\n",
    "break\n",
    "else:\n",
    "self.cache[i], self.cache[largest] = self.cache[largest], self.cache[i]\n",
    "i = largest\n",
    "\n",
    "\n",
    "\n",
    "def tournament_sort(a: list[int]) -> list[int]:\n",
    "a_len: int = len(a)\n",
    "heap = PriorityHeap()\n",
    "winners: list[int] = []\n",
    "losers: list[int] = []\n",
    "\n",
    "while heap.size < heap.max_size and heap.size < a_len:\n",
    "elem = a[heap.size]\n",
    "if winners and winners[-1] > elem:\n",
    "losers.append(elem)\n",
    "else:\n",
    "heap.max_heap_insert(a[heap.size])\n",
    "\n",
    "for i in range(heap.size, a_len):\n",
    "elem: int = a[i]\n",
    "\n",
    "if winners and winners[-1] > elem:\n",
    "losers.append(elem)\n",
    "else:\n",
    "max_elem: int = heap.pop_max()\n",
    "\n",
    "if not winners:\n",
    "winners.append(max_elem)\n",
    "elif winners[-1] <= max_elem:\n",
    "winners.append(max_elem)\n",
    "else:\n",
    "losers.append(max_elem)\n",
    "\n",
    "heap.max_heap_insert(elem)\n",
    "\n",
    "while heap.size > 0:\n",
    "max_elem: int = heap.pop_max()\n",
    "\n",
    "if not winners:\n",
    "winners.append(max_elem)\n",
    "elif winners[-1] <= max_elem:\n",
    "winners.append(max_elem)\n",
    "else:\n",
    "losers.append(max_elem)\n",
    "\n",
    "if not losers:\n",
    "return winners\n",
    "else:\n",
    "winners2: list[int] = tournament_sort(losers)\n",
    "\n",
    "i: int = 0\n",
    "j: int = 0\n",
    "winners1_len: int = len(winners)\n",
    "winners2_len: int = len(winners2)\n",
    "\n",
    "winners_res: list[int] = []\n",
    "\n",
    "while i < winners1_len and j < winners2_len:\n",
    "if winners[i] < winners2[j]:\n",
    "winners_res.append(winners[i])\n",
    "i += 1\n",
    "else:\n",
    "winners_res.append(winners2[j])\n",
    "j += 1\n",
    "while i < winners1_len:\n",
    "winners_res.append(winners[i])\n",
    "i += 1\n",
    "while j < winners2_len:\n",
    "winners_res.append(winners2[j])\n",
    "j += 1\n",
    "return winners_res\n",
    "\n",
    "print('Исходная матрица')\n",
    "for k in range(int(user_m)):\n",
    "print(matrix[k])\n",
    "\n",
    "print('Отсортированная матрица')\n",
    "tournament_sort_matrix = copy.deepcopy(matrix)\n",
    "for k in range(int(user_m)):\n",
    "print(tournament_sort(tournament_sort_matrix[k]))\n",
    "\n",
    "time_tournament_sort = round((time.time() - start_time)*1000)\n",
    "print(\"-— {0} ms —-\".format(time_tournament_sort))"
   ]
  },
  {
   "cell_type": "code",
   "execution_count": 14,
   "id": "44fa53bf",
   "metadata": {},
   "outputs": [
    {
     "name": "stdout",
     "output_type": "stream",
     "text": [
      "[[4, 6, 10], [4, 6, 10], [5, 7, 10]]\n",
      "--- 1 ms ---\n"
     ]
    }
   ],
   "source": [
    "# Встроенная сортировка.\n",
    "start_time = time.time()\n",
    "#TODO\n",
    "arr.sort()\n",
    "print(arr)\n",
    "print(\"--- {0} ms ---\".format(round((time.time() - start_time)*1000)))"
   ]
  },
  {
   "cell_type": "markdown",
   "id": "rental-jerusalem",
   "metadata": {},
   "source": [
    "### Вывод\n"
   ]
  },
  {
   "cell_type": "markdown",
   "id": "9d108a0a",
   "metadata": {},
   "source": []
  }
 ],
 "metadata": {
  "kernelspec": {
   "display_name": "Python 3 (ipykernel)",
   "language": "python",
   "name": "python3"
  },
  "language_info": {
   "codemirror_mode": {
    "name": "ipython",
    "version": 3
   },
   "file_extension": ".py",
   "mimetype": "text/x-python",
   "name": "python",
   "nbconvert_exporter": "python",
   "pygments_lexer": "ipython3",
   "version": "3.9.10"
  }
 },
 "nbformat": 4,
 "nbformat_minor": 5
}
