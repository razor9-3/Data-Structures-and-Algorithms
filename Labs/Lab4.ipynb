{
  "cells": [
    {
      "cell_type": "markdown",
      "id": "fifteen-sailing",
      "metadata": {
        "id": "fifteen-sailing"
      },
      "source": [
        "# Лабораторная работа №4\n",
        "## Выполнил студент группы БФИ-2001 Никитин Г.А"
      ]
    },
    {
      "cell_type": "markdown",
      "id": "arctic-stocks",
      "metadata": {
        "id": "arctic-stocks"
      },
      "source": [
        "Реализовать следующие структуры данных:\n",
        "  \n",
        "● <b> Стек (stack): </b>  \n",
        "Операции для стека: \n",
        "<i> инициализация, проверка на пустоту, добавление нового элемента в начало, извлечение элемента из начала;  </i>  \n",
        "  \n",
        "● <b> Дек (двусторонняя очередь, deque):  </b>  \n",
        "Операции для дека: \n",
        "<i> инициализация, проверка на пустоту, добавление нового элемента в начало, добавление нового элемента в конец, извлечение элемента из начала, извлечение элемента из конца. </i>  \n",
        "  \n",
        "<i> Разработать программу обработки данных, содержащихся в заранее подготовленном txt-файле, в соответствии с заданиями, применив указанную в задании структуру данных. Результат работы программы вывести на экран и сохранить в отдельном txt-файле. </i>"
      ]
    },
    {
      "cell_type": "code",
      "execution_count": 21,
      "metadata": {
        "id": "17702ade"
      },
      "outputs": [],
      "source": [
        "class stack:\n",
        "    def __init__(self):\n",
        "        self.capacity = 64\n",
        "        self.top = -1\n",
        "        self.arr = [None] * self.capacity\n",
        "\n",
        "    def is_empty(self):\n",
        "        return self.top == -1\n",
        "\n",
        "    def push(self, item):\n",
        "        if self.capacity == self.top + 1: \n",
        "            self.resize(self.capacity * 2)\n",
        "        self.top += 1\n",
        "        self.arr[self.top] = item\n",
        "    \n",
        "    def pop(self):\n",
        "        item = self.arr[self.top]\n",
        "        self.top -= 1\n",
        "        return item\n",
        "\n",
        "    def get_top(self):\n",
        "        return self.arr[self.top]\n",
        "\n",
        "    def resize(self, new_capacity):\n",
        "        old_arr = self.arr\n",
        "        self.arr = [None] * new_capacity\n",
        "        for i in range(self.top + 1):\n",
        "            self.arr[i] = old_arr[i]\n",
        "        self.capacity = new_capacity"
      ],
      "id": "17702ade"
    },
    {
      "cell_type": "code",
      "source": [
        "class deque:\n",
        "    def __init__(self, source_arr = None):\n",
        "        if source_arr is None:\n",
        "            self.capacity = 64\n",
        "            self.arr = [None] * self.capacity\n",
        "            self.back = 0\n",
        "            self.front = 0\n",
        "            self.size = 0\n",
        "        else:\n",
        "            self.arr = source_arr\n",
        "            self.capacity = len(source_arr)\n",
        "            self.back = 0\n",
        "            self.front = len(source_arr) - 1\n",
        "            self.size = len(source_arr)\n",
        "\n",
        "    def is_empty(self):\n",
        "        return self.size == 0\n",
        "\n",
        "    def push_front(self, item):\n",
        "        if self.capacity == self.size: \n",
        "            self.resize(self.capacity * 2)\n",
        "        if self.size > 0:\n",
        "            self.front += 1\n",
        "            if self.front == self.capacity:\n",
        "                self.front = 0\n",
        "        self.size += 1\n",
        "        self.arr[self.front] = item\n",
        "    \n",
        "    def pop_front(self):\n",
        "        item = self.arr[self.front]\n",
        "        if self.size > 1:\n",
        "            self.front -= 1\n",
        "            if self.front < 0:\n",
        "                self.front = self.capacity - 1\n",
        "        self.size -= 1\n",
        "        return item\n",
        "\n",
        "    def get_front(self):\n",
        "        return self.arr[self.front]\n",
        "\n",
        "    def push_back(self, item):\n",
        "        if self.capacity == self.size: \n",
        "            self.resize(self.capacity * 2)\n",
        "        if self.size > 0:\n",
        "            self.back -= 1\n",
        "            if self.back < 0:\n",
        "                self.back = self.capacity - 1\n",
        "        self.size += 1\n",
        "        self.arr[self.back] = item\n",
        "    \n",
        "    def pop_back(self):\n",
        "        item = self.arr[self.back]\n",
        "        if self.size > 1:\n",
        "            self.back += 1\n",
        "            if self.back == self.capacity:\n",
        "                self.back = 0\n",
        "        self.size -= 1\n",
        "        return item\n",
        "\n",
        "    def get_back(self):\n",
        "        return self.arr[self.back]\n",
        "\n",
        "    def resize(self, new_capacity):\n",
        "        old_arr = self.arr\n",
        "        self.arr = [None] * new_capacity\n",
        "        old_capacity = self.capacity\n",
        "        if self.size > 0:\n",
        "            i = self.back\n",
        "            j = 0\n",
        "            while j < self.size:\n",
        "                self.arr[j] = old_arr[i]\n",
        "                i = (i + 1) % old_capacity\n",
        "                j += 1\n",
        "            self.back = 0\n",
        "            self.front = max(1, self.size - 1)\n",
        "        else:\n",
        "            self.back = 0\n",
        "            self.front = 0\n",
        "        self.capacity = new_capacity"
      ],
      "metadata": {
        "id": "ptute3UkUjn-"
      },
      "id": "ptute3UkUjn-",
      "execution_count": 12,
      "outputs": []
    },
    {
      "cell_type": "markdown",
      "id": "5d7edb08",
      "metadata": {
        "scrolled": true,
        "id": "5d7edb08"
      },
      "source": [
        "### Задание №1\n",
        "Отсортировать строки файла, содержащие названия книг, в алфавитном порядке с использованием двух деков."
      ]
    },
    {
      "cell_type": "code",
      "source": [
        "a = deque()\n",
        "b = deque()\n",
        "\n",
        "with open(\"Lab4_data/1_in.txt\") as file:\n",
        "    for book in file:\n",
        "        a.push_front(book.rstrip())\n",
        "\n",
        "while not a.is_empty():\n",
        "    e = a.pop_back()\n",
        "    if b.is_empty():\n",
        "        b.push_front(e)\n",
        "        continue\n",
        "    if e <= b.get_back():\n",
        "        b.push_back(e)\n",
        "        continue\n",
        "    if e >= b.get_front():\n",
        "        b.push_front(e)\n",
        "        continue\n",
        "    while not b.is_empty() and b.get_back() < e:\n",
        "        a.push_back(b.pop_back())\n",
        "    b.push_back(e)\n",
        "\n",
        "with open(\"Lab4_data/1_out.txt\", 'w') as file:\n",
        "    while not b.is_empty():\n",
        "        s = b.pop_back()\n",
        "        print(s)\n",
        "        file.write(s + \"\\n\")"
      ],
      "metadata": {
        "colab": {
          "base_uri": "https://localhost:8080/"
        },
        "id": "jxxzln6DUutw",
        "outputId": "52370a5c-bb93-4baf-defd-7726cf2e2bf0"
      },
      "id": "jxxzln6DUutw",
      "execution_count": 6,
      "outputs": [
        {
          "output_type": "stream",
          "name": "stdout",
          "text": [
            "Man's fate\n",
            "Three Comrades\n",
            "War and peace\n"
          ]
        }
      ]
    },
    {
      "cell_type": "markdown",
      "id": "49fbd2a0",
      "metadata": {
        "id": "49fbd2a0"
      },
      "source": [
        "### Задание №2\n",
        "Дек содержит последовательность символов для шифровки сообщений. Дан текстовый файл, содержащий зашифрованное сообщение. Пользуясь деком, расшифровать текст. \n",
        "Известно, что при шифровке каждый символ сообщения заменялся следующим за ним в деке по часовой стрелке через один."
      ]
    },
    {
      "cell_type": "code",
      "execution_count": 8,
      "id": "81cab7a8",
      "metadata": {
        "id": "81cab7a8",
        "colab": {
          "base_uri": "https://localhost:8080/"
        },
        "outputId": "13714c9e-403a-4e13-d303-ae4180bf75b2"
      },
      "outputs": [
        {
          "output_type": "stream",
          "name": "stdout",
          "text": [
            "IN:  yqtf\n",
            "OUT:  word\n"
          ]
        }
      ],
      "source": [
        "code = deque(list(\"abcdefghijklmnopqrstuvwxyz \"))\n",
        "with open(\"Lab4_data/2_in.txt\") as file:\n",
        "    file_text = file.read()\n",
        "    text = list(file_text)\n",
        "    print(\"IN: \", file_text)\n",
        "\n",
        "def next(): code.push_back(code.pop_front())\n",
        "\n",
        "for i in range(len(text)):\n",
        "    c = text[i]\n",
        "    while code.get_front() != c:\n",
        "        next()\n",
        "    next()\n",
        "    next()\n",
        "    text[i] = code.get_front()\n",
        "\n",
        "result = ''.join(text)\n",
        "print(\"OUT: \", result)\n",
        "with open(\"Lab4_data/2_out.txt\", 'w') as file:\n",
        "    file.write(result)"
      ]
    },
    {
      "cell_type": "markdown",
      "id": "c0894f47",
      "metadata": {
        "id": "c0894f47"
      },
      "source": [
        "### Задание №3\n",
        "Даны три стержня и n дисков различного размера. Диски можно надевать на стержни, образуя из них башни. Перенести n дисков со стержня А на стержень С, сохранив их первоначальный порядок. При переносе дисков необходимо соблюдать следующие правила:\n",
        "- на каждом шаге со стержня на стержень переносить только один диск;\n",
        "- диск нельзя помещать на диск меньшего размера;\n",
        "- для промежуточного хранения можно использовать стержень В.\n",
        "Реализовать алгоритм, используя три стека вместо стержней А, В, С. Информация о дисках хранится в исходном файле."
      ]
    },
    {
      "cell_type": "code",
      "execution_count": 9,
      "id": "9e91a9d4",
      "metadata": {
        "id": "9e91a9d4",
        "colab": {
          "base_uri": "https://localhost:8080/"
        },
        "outputId": "8f75ff0d-c1be-4129-c8ef-fdb4a342bb86"
      },
      "outputs": [
        {
          "output_type": "stream",
          "name": "stdout",
          "text": [
            "A => C\n",
            "A => B\n",
            "C => B\n",
            "A => C\n",
            "B => A\n",
            "B => C\n",
            "A => C\n",
            "A => B\n",
            "C => B\n",
            "C => A\n",
            "B => A\n",
            "C => B\n",
            "A => C\n",
            "A => B\n",
            "C => B\n",
            "A => C\n",
            "B => A\n",
            "B => C\n",
            "A => C\n",
            "B => A\n",
            "C => B\n",
            "C => A\n",
            "B => A\n",
            "B => C\n",
            "A => C\n",
            "A => B\n",
            "C => B\n",
            "A => C\n",
            "B => A\n",
            "B => C\n",
            "A => C\n"
          ]
        }
      ],
      "source": [
        "a = stack()\n",
        "b = stack()\n",
        "c = stack()\n",
        "n = 0\n",
        "\n",
        "with open(\"Lab4_data/3_in.txt\") as file:\n",
        "    discs = [int(line.rstrip()) for line in file]\n",
        "    discs.reverse()\n",
        "    for disc in discs:\n",
        "        a.push(disc)\n",
        "        n += 1\n",
        "\n",
        "moves = []\n",
        "\n",
        "def hanoi(n, stack_from, stack_to, stack_temp):\n",
        "    if n == 0: return\n",
        "    hanoi(n - 1, stack_from, stack_temp, stack_to)\n",
        "    stack_to[0].push(stack_from[0].pop())\n",
        "    moves.append((stack_from[1], stack_to[1]))\n",
        "    hanoi(n - 1, stack_temp, stack_to, stack_from)\n",
        "\n",
        "hanoi(n, (a, \"A\"), (c, \"C\"), (b, \"B\"))\n",
        "\n",
        "with open(\"Lab4_data/3_out.txt\", 'w') as file:\n",
        "    for move in moves:\n",
        "        s = f\"{move[0]} => {move[1]}\"\n",
        "        file.write(s + \"\\n\")  \n",
        "        print(s)"
      ]
    },
    {
      "cell_type": "markdown",
      "id": "e5b0be17",
      "metadata": {
        "id": "e5b0be17"
      },
      "source": [
        "### Задание №4\n",
        "Дан текстовый файл с программой на алгоритмическом языке. За один просмотр файла проверить баланс круглых скобок в тексте, используя стек."
      ]
    },
    {
      "cell_type": "code",
      "execution_count": 14,
      "id": "5b1df60a",
      "metadata": {
        "id": "5b1df60a",
        "colab": {
          "base_uri": "https://localhost:8080/"
        },
        "outputId": "d346838f-bc5d-46be-c712-010470a01fb5"
      },
      "outputs": [
        {
          "output_type": "stream",
          "name": "stdout",
          "text": [
            "True\n"
          ]
        }
      ],
      "source": [
        "def check_brackets(text):\n",
        "    opened_brackets = stack()\n",
        "\n",
        "    for c in text:\n",
        "        if c == '(':\n",
        "            opened_brackets.push('(')\n",
        "        elif c == ')':\n",
        "            if opened_brackets.is_empty():\n",
        "                return False\n",
        "            opened_brackets.pop()\n",
        "    return opened_brackets.is_empty()\n",
        "\n",
        "\n",
        "with open(\"Lab4_data/4_in.txt\") as file:\n",
        "    text = file.read()\n",
        "\n",
        "result = check_brackets(text)\n",
        "\n",
        "with open(\"Lab4_data/4_out.txt\", 'w') as file:\n",
        "    file.write(str(result))\n",
        "    print(result)"
      ]
    },
    {
      "cell_type": "markdown",
      "id": "c44cdd6b",
      "metadata": {
        "id": "c44cdd6b"
      },
      "source": [
        "### Задание №5\n",
        "Дан текстовый файл с программой на алгоритмическом языке. За один просмотр файла проверить баланс квадратных скобок в тексте, используя дек."
      ]
    },
    {
      "cell_type": "code",
      "execution_count": 16,
      "id": "36b8f400",
      "metadata": {
        "id": "36b8f400",
        "colab": {
          "base_uri": "https://localhost:8080/"
        },
        "outputId": "eaadcf37-5979-4d4b-febb-e0345009a4b0"
      },
      "outputs": [
        {
          "output_type": "stream",
          "name": "stdout",
          "text": [
            "True\n"
          ]
        }
      ],
      "source": [
        "def check_square_brackets(text):\n",
        "    opened_brackets = deque()\n",
        "\n",
        "    for c in text:\n",
        "        if c == '[':\n",
        "            opened_brackets.push_front('[')\n",
        "        elif c == ']':\n",
        "            if opened_brackets.is_empty():\n",
        "                return False\n",
        "            opened_brackets.pop_front()\n",
        "    return opened_brackets.is_empty()\n",
        "\n",
        "\n",
        "with open(\"Lab4_data/5_in.txt\") as file:\n",
        "    text = file.read()\n",
        "\n",
        "result = check_square_brackets(text)\n",
        "\n",
        "with open(\"Lab4_data/5_out.txt\", 'w') as file:\n",
        "    file.write(str(result))\n",
        "    print(result)"
      ]
    },
    {
      "cell_type": "markdown",
      "id": "59d13dc7",
      "metadata": {
        "id": "59d13dc7"
      },
      "source": [
        "### Задание №6\n",
        "Дан файл из символов. Используя стек, за один просмотр файла напечатать сначала все цифры, затем все буквы, и, наконец, все остальные символы, сохраняя исходный порядок в каждой группе символов."
      ]
    },
    {
      "cell_type": "code",
      "execution_count": 17,
      "id": "297e36c2",
      "metadata": {
        "id": "297e36c2",
        "colab": {
          "base_uri": "https://localhost:8080/"
        },
        "outputId": "b43c5401-7ddc-4f17-c453-cd51cd7fa360"
      },
      "outputs": [
        {
          "output_type": "stream",
          "name": "stdout",
          "text": [
            "67872763hwhsahgdfsuhgfdy.."
          ]
        }
      ],
      "source": [
        "with open(\"Lab4_data/6_in.txt\") as input, open(\"Lab4_data/6_out.txt\", 'w') as output:\n",
        "    letters = stack()\n",
        "    symbols = stack()\n",
        "\n",
        "    for c in input.read():\n",
        "        if c.isnumeric():\n",
        "            print(c, end='')\n",
        "            output.write(c)\n",
        "        elif c.isalpha():\n",
        "            letters.push(c)\n",
        "        else:\n",
        "            symbols.push(c)\n",
        "\n",
        "    letters_count = 0\n",
        "    while not letters.is_empty():\n",
        "        letters_count += 1\n",
        "        symbols.push(letters.pop())\n",
        "\n",
        "    for i in range(letters_count):\n",
        "        c = symbols.pop()\n",
        "        print(c, end='')\n",
        "        output.write(c)\n",
        "\n",
        "    while not symbols.is_empty():\n",
        "        letters.push(symbols.pop())\n",
        "\n",
        "    while not letters.is_empty():\n",
        "        c = letters.pop()\n",
        "        print(c, end='')\n",
        "        output.write(c)"
      ]
    },
    {
      "cell_type": "markdown",
      "id": "973f68bd",
      "metadata": {
        "id": "973f68bd"
      },
      "source": [
        "### Задание №7\n",
        "Дан файл из целых чисел. Используя дек, за один просмотр файла напечатать сначала все отрицательные числа, затем все положительные числа, сохраняя исходный порядок в каждой группе."
      ]
    },
    {
      "cell_type": "code",
      "execution_count": 18,
      "id": "c56fad66",
      "metadata": {
        "id": "c56fad66",
        "colab": {
          "base_uri": "https://localhost:8080/"
        },
        "outputId": "d86c4a9c-7cef-4b74-8455-bba39913efee"
      },
      "outputs": [
        {
          "output_type": "stream",
          "name": "stdout",
          "text": [
            "-1\n",
            "-30\n",
            "-57\n",
            "35\n",
            "23\n",
            "16\n"
          ]
        }
      ],
      "source": [
        "with open(\"Lab4_data/7_in.txt\") as input, open(\"Lab4_data/7_out.txt\", 'w') as output:\n",
        "    deque = deque()\n",
        "\n",
        "    for line in input:\n",
        "        line = line.rstrip()\n",
        "        num = int(line)\n",
        "        if num < 0:\n",
        "            print(line)\n",
        "            output.write(line + '\\n')\n",
        "        else:\n",
        "            deque.push_front(line)\n",
        "\n",
        "    while not deque.is_empty():\n",
        "        s = deque.pop_back()\n",
        "        print(s)\n",
        "        output.write(s + '\\n')"
      ]
    },
    {
      "cell_type": "markdown",
      "id": "b9228191",
      "metadata": {
        "id": "b9228191"
      },
      "source": [
        "### Задание №8\n",
        "Дан текстовый файл. Используя стек, сформировать новый текстовый файл, содержащий строки исходного файла, записанные в обратном порядке: первая строка становится последней, вторая – предпоследней и т.д."
      ]
    },
    {
      "cell_type": "code",
      "execution_count": 22,
      "id": "981fbdfe",
      "metadata": {
        "id": "981fbdfe",
        "colab": {
          "base_uri": "https://localhost:8080/"
        },
        "outputId": "cb9cfce1-4f48-489c-cee5-7646f5c2d0e2"
      },
      "outputs": [
        {
          "output_type": "stream",
          "name": "stdout",
          "text": [
            "5th\n",
            "4th\n",
            "3rd\n",
            "2nd\n",
            "1st\n"
          ]
        }
      ],
      "source": [
        "with open(\"Lab4_data/8_in.txt\") as input, open(\"Lab4_data/8_out.txt\", 'w') as output:\n",
        "    stack = stack()\n",
        "\n",
        "    for line in input:\n",
        "        stack.push(line.rstrip())\n",
        "\n",
        "    while not stack.is_empty():\n",
        "        s = stack.pop()\n",
        "        print(s)\n",
        "        output.write(s + '\\n')"
      ]
    },
    {
      "cell_type": "markdown",
      "id": "rental-jerusalem",
      "metadata": {
        "id": "rental-jerusalem"
      },
      "source": [
        "### Вывод\n"
      ]
    },
    {
      "cell_type": "markdown",
      "id": "0c2b8899",
      "metadata": {
        "id": "0c2b8899"
      },
      "source": [
        ""
      ]
    }
  ],
  "metadata": {
    "kernelspec": {
      "display_name": "Python 3 (ipykernel)",
      "language": "python",
      "name": "python3"
    },
    "language_info": {
      "codemirror_mode": {
        "name": "ipython",
        "version": 3
      },
      "file_extension": ".py",
      "mimetype": "text/x-python",
      "name": "python",
      "nbconvert_exporter": "python",
      "pygments_lexer": "ipython3",
      "version": "3.10.2"
    },
    "colab": {
      "name": "Lab4.ipynb",
      "provenance": []
    }
  },
  "nbformat": 4,
  "nbformat_minor": 5
}