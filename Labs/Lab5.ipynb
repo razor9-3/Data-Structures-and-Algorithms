{
 "cells": [
  {
   "cell_type": "markdown",
   "metadata": {
    "id": "WPvB9TcMmKA6"
   },
   "source": [
    "# Лабораторная работа №5\n",
    "# Рекурсия. Фракталы."
   ]
  },
  {
   "cell_type": "markdown",
   "metadata": {
    "id": "96Gi_LEvmSVH"
   },
   "source": [
    "## Выполнил студент группы БФИ-2001 Никитин Г.А"
   ]
  },
  {
   "cell_type": "markdown",
   "metadata": {
    "id": "4clYOyb0mbEv"
   },
   "source": [
    "### Задание:\n",
    "Реализовать генерацию заданного типа фрактала с применением рекурсивных функций.\n",
    "\n",
    "\n",
    "Добавить возможность задания глубины фрактала. \n",
    "\n",
    "\n",
    "Оценить глубину рекурсии. \n",
    "\n",
    "\n",
    "Построить таблицу зависимости времени построения от глубины фрактала."
   ]
  },
  {
   "cell_type": "markdown",
   "metadata": {
    "id": "wDXHbUmMmhRL"
   },
   "source": [
    "### Список фракталов:\n",
    "\n",
    "Кривая Коха\n",
    "| Кривая Гильберта\n",
    "| Кривая Серпинского\n",
    "| Салфетка Серпинского\n",
    "| Ковер Серпинского\n",
    "| Дерево Пифагора "
   ]
  },
  {
   "cell_type": "markdown",
   "metadata": {
    "id": "Wggfn8l7nG72"
   },
   "source": [
    "### Выполнение:"
   ]
  },
  {
   "cell_type": "code",
   "execution_count": 1,
   "metadata": {
    "id": "681a95mZnOSa"
   },
   "outputs": [],
   "source": [
    "import turtle\n",
    "import datetime\n",
    "import math\n",
    "import copy\n",
    "\n",
    "def benchmark_fractal(func, max_n, done = False, step = 200):\n",
    "    turtle.speed(10000000)\n",
    "    for i in range(1, max_n + 1):\n",
    "        turtle.reset()\n",
    "        turtle.speed(10000000)\n",
    "        start_time = datetime.datetime.now()\n",
    "        func(step, i)\n",
    "        total_time = (datetime.datetime.now() - start_time).total_seconds()\n",
    "        print(f\"Depth: {i} - {round(total_time, 1)}s\")\n"
   ]
  },
  {
   "cell_type": "code",
   "execution_count": 2,
   "metadata": {},
   "outputs": [
    {
     "name": "stdout",
     "output_type": "stream",
     "text": [
      "Depth: 1 - 0.1s\n",
      "Depth: 2 - 0.5s\n"
     ]
    }
   ],
   "source": [
    "def koch(step, n):\n",
    "    if n == 0:\n",
    "        turtle.forward(step)\n",
    "        return\n",
    "\n",
    "    def call_next():\n",
    "        koch(step / 3, n - 1)\n",
    "\n",
    "    call_next()\n",
    "    turtle.left(60)\n",
    "    call_next()\n",
    "    turtle.right(120)\n",
    "    call_next()\n",
    "    turtle.left(60)\n",
    "    call_next()\n",
    "\n",
    "benchmark_fractal(koch, 2)"
   ]
  },
  {
   "cell_type": "code",
   "execution_count": 3,
   "metadata": {},
   "outputs": [
    {
     "name": "stdout",
     "output_type": "stream",
     "text": [
      "Depth: 1 - 0.1s\n",
      "Depth: 2 - 0.5s\n"
     ]
    }
   ],
   "source": [
    "def hilbert(step, n, dir = 1):\n",
    "    if n == 0: return\n",
    "    turtle.left(90 * dir)\n",
    "    hilbert(step, n - 1, -dir)\n",
    "    turtle.forward(step)\n",
    "    turtle.right(90 * dir)\n",
    "    hilbert(step, n - 1, dir)\n",
    "    turtle.forward(step)\n",
    "    hilbert(step, n - 1, dir)\n",
    "    turtle.right(90 * dir)\n",
    "    turtle.forward(step)\n",
    "    hilbert(step, n - 1, -dir)\n",
    "    turtle.left(90 * dir)\n",
    "\n",
    "benchmark_fractal(hilbert, 2, step=20)"
   ]
  },
  {
   "cell_type": "code",
   "execution_count": 4,
   "metadata": {},
   "outputs": [
    {
     "name": "stdout",
     "output_type": "stream",
     "text": [
      "Depth: 1 - 0.5s\n",
      "Depth: 2 - 2.0s\n"
     ]
    }
   ],
   "source": [
    "sqrt2 = math.sqrt(2)\n",
    "def sierpinski_half_fractal(step, n):\n",
    "    if n == 0: \n",
    "        turtle.forward(step)\n",
    "        return\n",
    "    sierpinski_half_fractal(step, n - 1)\n",
    "    turtle.left(45)\n",
    "    turtle.forward(step * sqrt2)\n",
    "    turtle.left(45)\n",
    "    sierpinski_half_fractal(step, n - 1)\n",
    "    turtle.right(90)\n",
    "    turtle.forward(step)\n",
    "    turtle.right(90)\n",
    "    sierpinski_half_fractal(step, n - 1)\n",
    "    turtle.left(45)\n",
    "    turtle.forward(step * sqrt2)\n",
    "    turtle.left(45)\n",
    "    sierpinski_half_fractal(step, n - 1)\n",
    "\n",
    "def sierpinski(step, n):\n",
    "    turtle.right(45)\n",
    "    sierpinski_half_fractal(step, n)\n",
    "    turtle.right(90)\n",
    "    turtle.forward(step)\n",
    "    turtle.right(90)\n",
    "    sierpinski_half_fractal(step, n)\n",
    "    turtle.right(90)\n",
    "    turtle.forward(step)\n",
    "    turtle.right(90)\n",
    "\n",
    "benchmark_fractal(sierpinski, 2, step=10)"
   ]
  },
  {
   "cell_type": "code",
   "execution_count": 5,
   "metadata": {},
   "outputs": [
    {
     "name": "stdout",
     "output_type": "stream",
     "text": [
      "Depth: 1 - 0.2s\n",
      "Depth: 2 - 0.3s\n"
     ]
    }
   ],
   "source": [
    "def sierpinski_napkin(step, n, dir = 1):\n",
    "    if n == 0: return\n",
    "    turtle.right(120)\n",
    "    turtle.forward(step)\n",
    "    sierpinski_napkin(step / 2, n - 1, -1)\n",
    "    turtle.forward(step)\n",
    "    turtle.right(120 * dir)\n",
    "    turtle.forward(step)\n",
    "    if dir < 0: sierpinski_napkin(step / 2, n - 1, -1)\n",
    "    turtle.forward(step)\n",
    "    turtle.right(120 * dir)\n",
    "    turtle.forward(step)\n",
    "    if dir < 0: sierpinski_napkin(step / 2, n - 1, -1)\n",
    "    turtle.forward(step)\n",
    "    turtle.right(120)\n",
    "\n",
    "benchmark_fractal(sierpinski_napkin, 2)"
   ]
  },
  {
   "cell_type": "code",
   "execution_count": 6,
   "metadata": {},
   "outputs": [
    {
     "name": "stdout",
     "output_type": "stream",
     "text": [
      "Depth: 1 - 0.3s\n",
      "Depth: 2 - 2.5s\n"
     ]
    }
   ],
   "source": [
    "def sierpinski_carpet(step, n):\n",
    "    if n == 0: return\n",
    "    if n == 1: turtle.begin_fill()\n",
    "    for _ in range(4):\n",
    "        for _ in range(2):\n",
    "            sierpinski_carpet(step / 3, n - 1)\n",
    "            turtle.forward(step)\n",
    "        turtle.forward(step)\n",
    "        turtle.right(90)\n",
    "    if n == 1: turtle.end_fill()\n",
    "\n",
    "benchmark_fractal(sierpinski_carpet, 2)"
   ]
  },
  {
   "cell_type": "code",
   "execution_count": 10,
   "metadata": {},
   "outputs": [
    {
     "name": "stdout",
     "output_type": "stream",
     "text": [
      "Depth: 1 - 0.1s\n",
      "Depth: 2 - 0.4s\n"
     ]
    }
   ],
   "source": [
    "def pythagor_tree_iter(step, n, dir = 1):\n",
    "    if n == 0: return\n",
    "    next_step = math.sqrt((step ** 2) / 2) \n",
    "    turtle.forward(step)\n",
    "    if n > 1:\n",
    "        turtle.left(45 * dir)\n",
    "        pythagor_tree_iter(next_step, n - 1, dir)\n",
    "        turtle.left(135 * dir)\n",
    "        turtle.forward(step)\n",
    "        turtle.left(45 * dir)\n",
    "        pythagor_tree_iter(next_step, n - 1, -dir)\n",
    "        turtle.right(45 * dir)\n",
    "        turtle.forward(step)\n",
    "    else:\n",
    "        turtle.right(90 * dir)\n",
    "        turtle.forward(step)\n",
    "        turtle.right(90 * dir)\n",
    "        turtle.forward(step)\n",
    "    turtle.right(90 * dir)\n",
    "    turtle.forward(step)\n",
    "\n",
    "\n",
    "def pythagor_tree(step, n):\n",
    "    turtle.left(90)\n",
    "    pythagor_tree_iter(step, n)\n",
    "\n",
    "\n",
    "benchmark_fractal(pythagor_tree, 2)"
   ]
  },
  {
   "cell_type": "markdown",
   "metadata": {
    "id": "diOb-K7LnO5a"
   },
   "source": [
    "### Вывод"
   ]
  }
 ],
 "metadata": {
  "colab": {
   "collapsed_sections": [],
   "name": "Lab5.ipynb",
   "provenance": []
  },
  "kernelspec": {
   "display_name": "Python 3 (ipykernel)",
   "language": "python",
   "name": "python3"
  },
  "language_info": {
   "codemirror_mode": {
    "name": "ipython",
    "version": 3
   },
   "file_extension": ".py",
   "mimetype": "text/x-python",
   "name": "python",
   "nbconvert_exporter": "python",
   "pygments_lexer": "ipython3",
   "version": "3.9.10"
  }
 },
 "nbformat": 4,
 "nbformat_minor": 1
}
